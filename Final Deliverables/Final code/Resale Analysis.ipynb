{
 "cells": [
  {
   "cell_type": "code",
   "execution_count": 1,
   "metadata": {},
   "outputs": [],
   "source": [
    "import json\n",
    "import pickle\n",
    "import pandas as pd\n",
    "import numpy as np\n",
    "import matplotlib.pyplot as plt\n",
    "from sklearn.preprocessing import LabelEncoder\n",
    "from sklearn.metrics import r2_score\n",
    "from lightgbm import LGBMRegressor\n"
   ]
  },
  {
   "cell_type": "code",
   "execution_count": 2,
   "metadata": {},
   "outputs": [],
   "source": [
    "df = pd.read_csv(\"./autos.csv\", header=0, sep=\",\", encoding=\"Latin1\")"
   ]
  },
  {
   "cell_type": "code",
   "execution_count": 3,
   "metadata": {},
   "outputs": [
    {
     "data": {
      "text/plain": [
       "privat        371525\n",
       "gewerblich         3\n",
       "Name: seller, dtype: int64"
      ]
     },
     "execution_count": 3,
     "metadata": {},
     "output_type": "execute_result"
    }
   ],
   "source": [
    "df.seller.value_counts()"
   ]
  },
  {
   "cell_type": "code",
   "execution_count": 4,
   "metadata": {},
   "outputs": [],
   "source": [
    "df = df[df.seller != 'gewerblich']\n",
    "df = df.drop('seller', axis=1)"
   ]
  },
  {
   "cell_type": "code",
   "execution_count": 5,
   "metadata": {},
   "outputs": [
    {
     "data": {
      "text/plain": [
       "Angebot    371513\n",
       "Gesuch         12\n",
       "Name: offerType, dtype: int64"
      ]
     },
     "execution_count": 5,
     "metadata": {},
     "output_type": "execute_result"
    }
   ],
   "source": [
    "df.offerType.value_counts()"
   ]
  },
  {
   "cell_type": "code",
   "execution_count": 6,
   "metadata": {},
   "outputs": [],
   "source": [
    "df = df[df.offerType != 'Gesuch']\n",
    "df = df.drop('offerType', axis=1)"
   ]
  },
  {
   "cell_type": "code",
   "execution_count": 7,
   "metadata": {},
   "outputs": [
    {
     "data": {
      "text/plain": [
       "dateCrawled                0\n",
       "name                       0\n",
       "price                      0\n",
       "abtest                     0\n",
       "vehicleType            37862\n",
       "yearOfRegistration         0\n",
       "gearbox                20203\n",
       "powerPS                    0\n",
       "model                  20481\n",
       "kilometer                  0\n",
       "monthOfRegistration        0\n",
       "fuelType               33379\n",
       "brand                      0\n",
       "notRepairedDamage      72053\n",
       "dateCreated                0\n",
       "nrOfPictures               0\n",
       "postalCode                 0\n",
       "lastSeen                   0\n",
       "dtype: int64"
      ]
     },
     "execution_count": 7,
     "metadata": {},
     "output_type": "execute_result"
    }
   ],
   "source": [
    "df.isnull().sum()"
   ]
  },
  {
   "cell_type": "code",
   "execution_count": 8,
   "metadata": {},
   "outputs": [],
   "source": [
    "df['yearsOld'] = 2022 - df['yearOfRegistration']"
   ]
  },
  {
   "cell_type": "code",
   "execution_count": 9,
   "metadata": {},
   "outputs": [],
   "source": [
    "df = df[['price', 'vehicleType', 'yearsOld', 'gearbox', 'powerPS', 'kilometer', 'fuelType', 'brand', 'notRepairedDamage']]"
   ]
  },
  {
   "cell_type": "code",
   "execution_count": 10,
   "metadata": {},
   "outputs": [],
   "source": [
    "df=df.dropna()"
   ]
  },
  {
   "cell_type": "code",
   "execution_count": 11,
   "metadata": {},
   "outputs": [],
   "source": [
    "df = df.drop_duplicates([ 'price', 'vehicleType','gearbox', 'powerPS', 'kilometer', 'fuelType', 'brand','notRepairedDamage'])"
   ]
  },
  {
   "cell_type": "code",
   "execution_count": 12,
   "metadata": {},
   "outputs": [],
   "source": [
    "df.gearbox.replace(('manuell', 'automatik'), ('manual', 'automatic'), inplace=True)\n",
    "df.fuelType.replace(('benzin', 'andere', 'elektro'), ('petrol', 'others', 'electric'), inplace=True)\n",
    "df.vehicleType.replace(('kleinwagen', 'cabrio', 'kombi', 'andere'), \n",
    "                        ('compact', 'convertible', 'combination', 'others'), inplace=True)\n",
    "df.notRepairedDamage.replace(('ja', 'nein'), ('Yes', 'No'),inplace=True)"
   ]
  },
  {
   "cell_type": "code",
   "execution_count": 13,
   "metadata": {},
   "outputs": [
    {
     "data": {
      "text/html": [
       "<div>\n",
       "<style scoped>\n",
       "    .dataframe tbody tr th:only-of-type {\n",
       "        vertical-align: middle;\n",
       "    }\n",
       "\n",
       "    .dataframe tbody tr th {\n",
       "        vertical-align: top;\n",
       "    }\n",
       "\n",
       "    .dataframe thead th {\n",
       "        text-align: right;\n",
       "    }\n",
       "</style>\n",
       "<table border=\"1\" class=\"dataframe\">\n",
       "  <thead>\n",
       "    <tr style=\"text-align: right;\">\n",
       "      <th></th>\n",
       "      <th>price</th>\n",
       "      <th>vehicleType</th>\n",
       "      <th>yearsOld</th>\n",
       "      <th>gearbox</th>\n",
       "      <th>powerPS</th>\n",
       "      <th>kilometer</th>\n",
       "      <th>fuelType</th>\n",
       "      <th>brand</th>\n",
       "      <th>notRepairedDamage</th>\n",
       "    </tr>\n",
       "  </thead>\n",
       "  <tbody>\n",
       "    <tr>\n",
       "      <th>141976</th>\n",
       "      <td>12900</td>\n",
       "      <td>limousine</td>\n",
       "      <td>13</td>\n",
       "      <td>manual</td>\n",
       "      <td>120</td>\n",
       "      <td>60000</td>\n",
       "      <td>petrol</td>\n",
       "      <td>audi</td>\n",
       "      <td>No</td>\n",
       "    </tr>\n",
       "    <tr>\n",
       "      <th>293573</th>\n",
       "      <td>34000</td>\n",
       "      <td>limousine</td>\n",
       "      <td>12</td>\n",
       "      <td>automatic</td>\n",
       "      <td>0</td>\n",
       "      <td>150000</td>\n",
       "      <td>diesel</td>\n",
       "      <td>bmw</td>\n",
       "      <td>No</td>\n",
       "    </tr>\n",
       "    <tr>\n",
       "      <th>299514</th>\n",
       "      <td>1400</td>\n",
       "      <td>combination</td>\n",
       "      <td>19</td>\n",
       "      <td>automatic</td>\n",
       "      <td>136</td>\n",
       "      <td>150000</td>\n",
       "      <td>petrol</td>\n",
       "      <td>peugeot</td>\n",
       "      <td>No</td>\n",
       "    </tr>\n",
       "    <tr>\n",
       "      <th>76260</th>\n",
       "      <td>16800</td>\n",
       "      <td>combination</td>\n",
       "      <td>12</td>\n",
       "      <td>manual</td>\n",
       "      <td>184</td>\n",
       "      <td>150000</td>\n",
       "      <td>diesel</td>\n",
       "      <td>bmw</td>\n",
       "      <td>No</td>\n",
       "    </tr>\n",
       "    <tr>\n",
       "      <th>330662</th>\n",
       "      <td>3350</td>\n",
       "      <td>limousine</td>\n",
       "      <td>19</td>\n",
       "      <td>manual</td>\n",
       "      <td>73</td>\n",
       "      <td>5000</td>\n",
       "      <td>petrol</td>\n",
       "      <td>citroen</td>\n",
       "      <td>No</td>\n",
       "    </tr>\n",
       "    <tr>\n",
       "      <th>...</th>\n",
       "      <td>...</td>\n",
       "      <td>...</td>\n",
       "      <td>...</td>\n",
       "      <td>...</td>\n",
       "      <td>...</td>\n",
       "      <td>...</td>\n",
       "      <td>...</td>\n",
       "      <td>...</td>\n",
       "      <td>...</td>\n",
       "    </tr>\n",
       "    <tr>\n",
       "      <th>178696</th>\n",
       "      <td>4700</td>\n",
       "      <td>compact</td>\n",
       "      <td>11</td>\n",
       "      <td>manual</td>\n",
       "      <td>60</td>\n",
       "      <td>150000</td>\n",
       "      <td>petrol</td>\n",
       "      <td>volkswagen</td>\n",
       "      <td>No</td>\n",
       "    </tr>\n",
       "    <tr>\n",
       "      <th>123311</th>\n",
       "      <td>2500</td>\n",
       "      <td>combination</td>\n",
       "      <td>17</td>\n",
       "      <td>manual</td>\n",
       "      <td>105</td>\n",
       "      <td>150000</td>\n",
       "      <td>lpg</td>\n",
       "      <td>volkswagen</td>\n",
       "      <td>No</td>\n",
       "    </tr>\n",
       "    <tr>\n",
       "      <th>134075</th>\n",
       "      <td>17900</td>\n",
       "      <td>convertible</td>\n",
       "      <td>11</td>\n",
       "      <td>automatic</td>\n",
       "      <td>160</td>\n",
       "      <td>50000</td>\n",
       "      <td>petrol</td>\n",
       "      <td>volkswagen</td>\n",
       "      <td>No</td>\n",
       "    </tr>\n",
       "    <tr>\n",
       "      <th>192738</th>\n",
       "      <td>1300</td>\n",
       "      <td>combination</td>\n",
       "      <td>24</td>\n",
       "      <td>manual</td>\n",
       "      <td>0</td>\n",
       "      <td>150000</td>\n",
       "      <td>petrol</td>\n",
       "      <td>audi</td>\n",
       "      <td>Yes</td>\n",
       "    </tr>\n",
       "    <tr>\n",
       "      <th>357398</th>\n",
       "      <td>600</td>\n",
       "      <td>others</td>\n",
       "      <td>28</td>\n",
       "      <td>automatic</td>\n",
       "      <td>125</td>\n",
       "      <td>150000</td>\n",
       "      <td>petrol</td>\n",
       "      <td>honda</td>\n",
       "      <td>No</td>\n",
       "    </tr>\n",
       "  </tbody>\n",
       "</table>\n",
       "<p>18215 rows × 9 columns</p>\n",
       "</div>"
      ],
      "text/plain": [
       "        price  vehicleType  yearsOld    gearbox  powerPS  kilometer fuelType  \\\n",
       "141976  12900    limousine        13     manual      120      60000   petrol   \n",
       "293573  34000    limousine        12  automatic        0     150000   diesel   \n",
       "299514   1400  combination        19  automatic      136     150000   petrol   \n",
       "76260   16800  combination        12     manual      184     150000   diesel   \n",
       "330662   3350    limousine        19     manual       73       5000   petrol   \n",
       "...       ...          ...       ...        ...      ...        ...      ...   \n",
       "178696   4700      compact        11     manual       60     150000   petrol   \n",
       "123311   2500  combination        17     manual      105     150000      lpg   \n",
       "134075  17900  convertible        11  automatic      160      50000   petrol   \n",
       "192738   1300  combination        24     manual        0     150000   petrol   \n",
       "357398    600       others        28  automatic      125     150000   petrol   \n",
       "\n",
       "             brand notRepairedDamage  \n",
       "141976        audi                No  \n",
       "293573         bmw                No  \n",
       "299514     peugeot                No  \n",
       "76260          bmw                No  \n",
       "330662     citroen                No  \n",
       "...            ...               ...  \n",
       "178696  volkswagen                No  \n",
       "123311  volkswagen                No  \n",
       "134075  volkswagen                No  \n",
       "192738        audi               Yes  \n",
       "357398       honda                No  \n",
       "\n",
       "[18215 rows x 9 columns]"
      ]
     },
     "execution_count": 13,
     "metadata": {},
     "output_type": "execute_result"
    }
   ],
   "source": [
    "df = df.sample(frac=0.093, random_state=42)\n",
    "df"
   ]
  },
  {
   "cell_type": "code",
   "execution_count": 14,
   "metadata": {},
   "outputs": [
    {
     "data": {
      "text/plain": [
       "price                1816\n",
       "vehicleType             8\n",
       "yearsOld               72\n",
       "gearbox                 2\n",
       "powerPS               362\n",
       "kilometer              13\n",
       "fuelType                7\n",
       "brand                  40\n",
       "notRepairedDamage       2\n",
       "dtype: int64"
      ]
     },
     "execution_count": 14,
     "metadata": {},
     "output_type": "execute_result"
    }
   ],
   "source": [
    "df.nunique(axis=0)"
   ]
  },
  {
   "cell_type": "code",
   "execution_count": 15,
   "metadata": {},
   "outputs": [],
   "source": [
    "Y = df.price\n",
    "X = df.drop(\"price\", axis=1)"
   ]
  },
  {
   "cell_type": "code",
   "execution_count": 16,
   "metadata": {},
   "outputs": [
    {
     "data": {
      "text/plain": [
       "vehicleType          object\n",
       "yearsOld              int64\n",
       "gearbox              object\n",
       "powerPS               int64\n",
       "kilometer             int64\n",
       "fuelType             object\n",
       "brand                object\n",
       "notRepairedDamage    object\n",
       "dtype: object"
      ]
     },
     "execution_count": 16,
     "metadata": {},
     "output_type": "execute_result"
    }
   ],
   "source": [
    "X.dtypes"
   ]
  },
  {
   "cell_type": "code",
   "execution_count": 17,
   "metadata": {},
   "outputs": [],
   "source": [
    "mapping = {}\n",
    "encoder = LabelEncoder()\n",
    "X['vehicleType'] = encoder.fit_transform(X['vehicleType'])\n",
    "mapping['vehicleType'] = dict(zip(encoder.classes_,range(len(encoder.classes_))))\n",
    "X['gearbox'] = encoder.fit_transform(X['gearbox'])\n",
    "mapping['gearbox'] = dict(zip(encoder.classes_,range(len(encoder.classes_))))\n",
    "X['fuelType'] = encoder.fit_transform(X['fuelType'])\n",
    "mapping['fuelType'] = dict(zip(encoder.classes_,range(len(encoder.classes_))))\n",
    "X['brand'] = encoder.fit_transform(X['brand'])\n",
    "mapping['brand'] = dict(zip(encoder.classes_,range(len(encoder.classes_))))\n",
    "X['notRepairedDamage'] = encoder.fit_transform(X['notRepairedDamage'])\n",
    "mapping['notRepairedDamage'] = dict(zip(encoder.classes_,range(len(encoder.classes_))))\n"
   ]
  },
  {
   "cell_type": "code",
   "execution_count": 18,
   "metadata": {},
   "outputs": [],
   "source": [
    "with open('mapping.json', 'w') as file:\n",
    "  json.dump(mapping, file)"
   ]
  },
  {
   "cell_type": "code",
   "execution_count": 19,
   "metadata": {},
   "outputs": [],
   "source": [
    "from sklearn.model_selection import train_test_split\n",
    "\n",
    "X_train, X_test, y_train, y_test = train_test_split(X, Y, test_size=0.2, random_state=42)"
   ]
  },
  {
   "cell_type": "code",
   "execution_count": 20,
   "metadata": {},
   "outputs": [
    {
     "data": {
      "text/plain": [
       "0.8285239256911172"
      ]
     },
     "execution_count": 20,
     "metadata": {},
     "output_type": "execute_result"
    }
   ],
   "source": [
    "model = LGBMRegressor(boosting_type=\"gbdt\",learning_rate=0.07,metric=\"rmse\",n_estimators=300,objective=\"root_mean_squared_error\",random_state=42,reg_sqrt=True)\n",
    "\n",
    "model.fit(X_train, y_train)\n",
    "\n",
    "y_pred = model.predict(X_test)\n",
    "\n",
    "r2_score(y_test, y_pred)"
   ]
  },
  {
   "cell_type": "code",
   "execution_count": 21,
   "metadata": {},
   "outputs": [],
   "source": [
    "pickle.dump(model, open('model.pkl', 'wb'))"
   ]
  }
 ],
 "metadata": {
  "kernelspec": {
   "display_name": "Python 3.10.8 ('ML')",
   "language": "python",
   "name": "python3"
  },
  "language_info": {
   "codemirror_mode": {
    "name": "ipython",
    "version": 3
   },
   "file_extension": ".py",
   "mimetype": "text/x-python",
   "name": "python",
   "nbconvert_exporter": "python",
   "pygments_lexer": "ipython3",
   "version": "3.10.8"
  },
  "orig_nbformat": 4,
  "vscode": {
   "interpreter": {
    "hash": "6c02a8bd40ddba90ee1222e34bb929027e24a92d74778c5b8cc5dbedd90efbf4"
   }
  }
 },
 "nbformat": 4,
 "nbformat_minor": 2
}
